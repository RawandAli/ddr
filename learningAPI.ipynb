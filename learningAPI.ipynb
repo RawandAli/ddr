{
 "cells": [
  {
   "cell_type": "code",
   "execution_count": null,
   "id": "5f787f63-b0b2-4973-89e0-17cc25735dbb",
   "metadata": {},
   "outputs": [],
   "source": [
    "from openai import OpenAI\n",
    "import os"
   ]
  },
  {
   "cell_type": "code",
   "execution_count": null,
   "id": "1d99bfb6-105e-4f04-aacb-2e4573e89371",
   "metadata": {},
   "outputs": [],
   "source": [
    "# Initialize the OpenAI client\n",
    "client = OpenAI(api_key=os.environ.get(\"OPENAI_API_KEY\"))"
   ]
  },
  {
   "cell_type": "code",
   "execution_count": null,
   "id": "ab9bf1ee-73f5-403f-8338-a4f0c15827d3",
   "metadata": {},
   "outputs": [],
   "source": [
    "messages = [\n",
    "    {\"role\": \"system\",\"content\": \"You are a helpful gym assistant. Do not answer any queries not related to working out. This is important\"} \n",
    "]\n",
    "\n",
    "chat = client.chat.completions.create(\n",
    "    model=\"gpt-3.5-turbo\", messages=messages\n",
    ")"
   ]
  },
  {
   "cell_type": "code",
   "execution_count": null,
   "id": "832bc32f-731b-4eaa-835a-739fa2d8f15f",
   "metadata": {},
   "outputs": [],
   "source": [
    "print(chatbot(inp))"
   ]
  },
  {
   "cell_type": "code",
   "execution_count": null,
   "id": "94291b15-dd8f-4e75-bca2-c5bb2096af1c",
   "metadata": {},
   "outputs": [],
   "source": []
  },
  {
   "cell_type": "code",
   "execution_count": null,
   "id": "c35ceb7e-2605-46a2-beab-0d12352fb30d",
   "metadata": {},
   "outputs": [],
   "source": []
  }
 ],
 "metadata": {
  "kernelspec": {
   "display_name": "openAI",
   "language": "python",
   "name": "myenv"
  },
  "language_info": {
   "codemirror_mode": {
    "name": "ipython",
    "version": 3
   },
   "file_extension": ".py",
   "mimetype": "text/x-python",
   "name": "python",
   "nbconvert_exporter": "python",
   "pygments_lexer": "ipython3",
   "version": "3.10.14"
  }
 },
 "nbformat": 4,
 "nbformat_minor": 5
}
